{
 "cells": [
  {
   "cell_type": "code",
   "execution_count": 1,
   "metadata": {},
   "outputs": [],
   "source": [
    "class Node:\n",
    "    def __init__(self, data):\n",
    "        self.data = data\n",
    "        self.next = None\n",
    "        "
   ]
  },
  {
   "cell_type": "code",
   "execution_count": 2,
   "metadata": {},
   "outputs": [],
   "source": [
    "class LinkedList:\n",
    "    def __init__(self):\n",
    "        self.head = None\n",
    "    def insertbeginning(self, data):\n",
    "        newnode = Node(data)\n",
    "        newnode.next = self.head\n",
    "        self.head = newnode\n",
    "    def insertend(self, data):\n",
    "        newnode = Node(data)\n",
    "        last = self.head \n",
    "        while (last.next): \n",
    "            last = last.next\n",
    "        last.next = newnode\n",
    "    def insertpoint(self, point, info):\n",
    "        newnode = Node(info)\n",
    "        temp = self.head\n",
    "        while(temp.data != point ):\n",
    "            temp = temp.next\n",
    "        newnode.next = temp.next\n",
    "        temp.next = newnode\n",
    "    def delete(self, val):\n",
    "        if (self.head == None):\n",
    "            print('Linked List is empty')\n",
    "            return\n",
    "        ptr = self.head\n",
    "        preptr = None\n",
    "        while(ptr.data != val):\n",
    "            preptr = ptr\n",
    "            ptr = ptr.next\n",
    "        if(preptr == None):\n",
    "            self.head = ptr.next\n",
    "            ptr = None\n",
    "        else:\n",
    "            preptr.next = ptr.next\n",
    "            ptr = None      \n",
    "    def traverse(self):\n",
    "        temp = self.head\n",
    "        while (temp is not None):\n",
    "            print(temp.data, \"->\")\n",
    "            temp = temp.next\n",
    "    def sizeofLL(self):\n",
    "        temp = self.head\n",
    "        count = 0\n",
    "        while(temp is not None):\n",
    "            count = count + 1\n",
    "            temp = temp.next\n",
    "        print(count)\n",
    "        \n",
    "        \n",
    "        "
   ]
  },
  {
   "cell_type": "code",
   "execution_count": null,
   "metadata": {},
   "outputs": [],
   "source": []
  },
  {
   "cell_type": "code",
   "execution_count": null,
   "metadata": {},
   "outputs": [],
   "source": []
  },
  {
   "cell_type": "code",
   "execution_count": null,
   "metadata": {},
   "outputs": [],
   "source": []
  },
  {
   "cell_type": "code",
   "execution_count": null,
   "metadata": {},
   "outputs": [],
   "source": []
  },
  {
   "cell_type": "code",
   "execution_count": null,
   "metadata": {},
   "outputs": [],
   "source": []
  }
 ],
 "metadata": {
  "kernelspec": {
   "display_name": "Python 3",
   "language": "python",
   "name": "python3"
  },
  "language_info": {
   "codemirror_mode": {
    "name": "ipython",
    "version": 3
   },
   "file_extension": ".py",
   "mimetype": "text/x-python",
   "name": "python",
   "nbconvert_exporter": "python",
   "pygments_lexer": "ipython3",
   "version": "3.7.4"
  }
 },
 "nbformat": 4,
 "nbformat_minor": 4
}
